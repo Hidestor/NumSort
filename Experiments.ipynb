{
 "cells": [
  {
   "cell_type": "code",
   "execution_count": 1,
   "metadata": {
    "collapsed": false
   },
   "outputs": [],
   "source": [
    "import main"
   ]
  },
  {
   "cell_type": "code",
   "execution_count": null,
   "metadata": {
    "collapsed": false
   },
   "outputs": [],
   "source": [
    "class Config_1(object):\n",
    "    cell_size = 100\n",
    "    num_layers = 1\n",
    "    batch_size = 32\n",
    "    input_size = 100\n",
    "    learning_rate = 0.1\n",
    "    cell_type = \"gru\"\n",
    "    encoder_end_padding = False\n",
    "    decoder_go_padding = True #This has to be always true.\n",
    "    seed = 1994\n",
    "    output_projection = None\n",
    "    number_epochs = 1000\n",
    "    lr_decay = 0.5\n",
    "    decay_epoch = 20\n",
    "    keep_prob = 0.8\n",
    "    intializations = 0.1\n",
    "    batch_average_loss = True\n",
    "    optimization_technique = \"AdamGrad\" #Either \"AdamGrad\" or \"GradientDescent\"\n",
    "\n",
    "    #Dataset-parameters\n",
    "    #Assuming that the lower limit is always '1'. \n",
    "    #<go> & <end> padding have index '0'.\n",
    "    upper_limit = 10\n",
    "    source_vocab_size = upper_limit + 2#Change to upper_limit+1 if end_padding = True.\n",
    "    target_vocab_size = upper_limit + 2\n",
    "    seq_lenght = 10\n",
    "    training_example_count = 1000\n",
    "    test_example_count = 200\n",
    "    encoder_time_steps = seq_lenght\n",
    "    decoder_time_steps = seq_lenght\n",
    "    number_repetition = True\n",
    "    one_hot_repr = True\n",
    "    attention_mechanism = False\n",
    "    training = True\n"
   ]
  },
  {
   "cell_type": "code",
   "execution_count": null,
   "metadata": {
    "collapsed": false
   },
   "outputs": [],
   "source": [
    "main.train(Config_1)"
   ]
  },
  {
   "cell_type": "code",
   "execution_count": null,
   "metadata": {
    "collapsed": true
   },
   "outputs": [],
   "source": []
  }
 ],
 "metadata": {
  "kernelspec": {
   "display_name": "Python 2",
   "language": "python",
   "name": "python2"
  },
  "language_info": {
   "codemirror_mode": {
    "name": "ipython",
    "version": 2
   },
   "file_extension": ".py",
   "mimetype": "text/x-python",
   "name": "python",
   "nbconvert_exporter": "python",
   "pygments_lexer": "ipython2",
   "version": "2.7.10"
  }
 },
 "nbformat": 4,
 "nbformat_minor": 1
}
